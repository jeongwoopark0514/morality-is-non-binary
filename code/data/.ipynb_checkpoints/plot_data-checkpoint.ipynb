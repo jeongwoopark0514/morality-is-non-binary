{
 "cells": [
  {
   "cell_type": "code",
   "execution_count": 5,
   "metadata": {
    "pycharm": {
     "name": "#%%\n"
    }
   },
   "outputs": [],
   "source": [
    "import pandas as pd"
   ]
  },
  {
   "cell_type": "code",
   "execution_count": 30,
   "metadata": {
    "pycharm": {
     "name": "#%%\n"
    }
   },
   "outputs": [
    {
     "name": "stdout",
     "output_type": "stream",
     "text": [
      "['ALM', 53, 84, 65, 67, 37, 1, 28, 8, 13, 6, 196]\n"
     ]
    }
   ],
   "source": [
    "# ALM\n",
    "labels = ['care', 'harm', 'fairness', 'cheating', 'loyalty', 'betrayal', 'authority', 'subversion', 'purity', 'degradation',  'non-moral']\n",
    "alm_distr = []\n",
    "df = pd.read_csv(\"processed/ALM_5.csv\")\n",
    "alm_distr.append(\"ALM\")\n",
    "for i in range(len(labels)):\n",
    "    alm_distr.append(df[labels[i]].sum(axis=0))\n",
    "\n",
    "print(alm_distr)"
   ]
  },
  {
   "cell_type": "code",
   "execution_count": 31,
   "metadata": {
    "pycharm": {
     "name": "#%%\n"
    }
   },
   "outputs": [
    {
     "name": "stdout",
     "output_type": "stream",
     "text": [
      "['BLM', 99, 200, 122, 171, 129, 10, 32, 77, 32, 57, 315]\n"
     ]
    }
   ],
   "source": [
    "# BLM\n",
    "blm_distr = []\n",
    "df = pd.read_csv(\"processed/BLM_5.csv\")\n",
    "blm_distr.append(\"BLM\")\n",
    "for i in range(len(labels)):\n",
    "    blm_distr.append(df[labels[i]].sum(axis=0))\n",
    "\n",
    "print(blm_distr)"
   ]
  },
  {
   "cell_type": "code",
   "execution_count": 32,
   "metadata": {
    "pycharm": {
     "name": "#%%\n"
    }
   },
   "outputs": [
    {
     "name": "stdout",
     "output_type": "stream",
     "text": [
      "['Baltimore', 12, 12, 8, 15, 24, 17, 2, 10, 0, 0, 177]\n"
     ]
    }
   ],
   "source": [
    "# Baltimore\n",
    "balt_distr = []\n",
    "df = pd.read_csv(\"processed/Baltimore_5.csv\")\n",
    "balt_distr.append(\"Baltimore\")\n",
    "for i in range(len(labels)):\n",
    "    balt_distr.append(df[labels[i]].sum(axis=0))\n",
    "\n",
    "print(balt_distr)"
   ]
  },
  {
   "cell_type": "code",
   "execution_count": 33,
   "metadata": {
    "pycharm": {
     "name": "#%%\n"
    }
   },
   "outputs": [
    {
     "name": "stdout",
     "output_type": "stream",
     "text": [
      "['Davidson', 9, 138, 4, 62, 41, 41, 20, 7, 5, 67, 4509]\n"
     ]
    }
   ],
   "source": [
    "# Davidson\n",
    "david_distr = []\n",
    "df = pd.read_csv(\"processed/Davidson_5.csv\")\n",
    "david_distr.append(\"Davidson\")\n",
    "for i in range(len(labels)):\n",
    "    david_distr.append(df[labels[i]].sum(axis=0))\n",
    "\n",
    "print(david_distr)"
   ]
  },
  {
   "cell_type": "code",
   "execution_count": 34,
   "metadata": {
    "pycharm": {
     "name": "#%%\n"
    }
   },
   "outputs": [
    {
     "name": "stdout",
     "output_type": "stream",
     "text": [
      "['Election', 54, 82, 75, 73, 30, 20, 15, 15, 94, 13, 238]\n"
     ]
    }
   ],
   "source": [
    "# Election\n",
    "election_distr = []\n",
    "df = pd.read_csv(\"processed/Election_5.csv\")\n",
    "election_distr.append(\"Election\")\n",
    "for i in range(len(labels)):\n",
    "    election_distr.append(df[labels[i]].sum(axis=0))\n",
    "\n",
    "print(election_distr)"
   ]
  },
  {
   "cell_type": "code",
   "execution_count": null,
   "metadata": {},
   "outputs": [],
   "source": []
  },
  {
   "cell_type": "code",
   "execution_count": null,
   "metadata": {},
   "outputs": [],
   "source": []
  },
  {
   "cell_type": "code",
   "execution_count": 35,
   "metadata": {},
   "outputs": [
    {
     "name": "stdout",
     "output_type": "stream",
     "text": [
      "['Election', 54, 82, 75, 73, 30, 20, 15, 15, 94, 13, 238]\n"
     ]
    }
   ],
   "source": []
  },
  {
   "cell_type": "code",
   "execution_count": 36,
   "metadata": {},
   "outputs": [
    {
     "name": "stdout",
     "output_type": "stream",
     "text": [
      "['Sandy', 46, 56, 10, 18, 17, 2, 20, 28, 2, 12, 127]\n"
     ]
    }
   ],
   "source": [
    "# Sandy\n",
    "sandy_distr = []\n",
    "df = pd.read_csv(\"processed/Sandy_5.csv\")\n",
    "sandy_distr.append(\"Sandy\")\n",
    "for i in range(len(labels)):\n",
    "    sandy_distr.append(df[labels[i]].sum(axis=0))\n",
    "\n",
    "print(sandy_distr)"
   ]
  },
  {
   "cell_type": "code",
   "execution_count": 37,
   "metadata": {},
   "outputs": [
    {
     "name": "stdout",
     "output_type": "stream",
     "text": [
      "['All', 273, 572, 284, 406, 278, 91, 117, 145, 146, 155, 5562]\n"
     ]
    }
   ],
   "source": [
    "# all\n",
    "all_distr = []\n",
    "df = pd.read_csv(\"processed/MFTC_5.csv\")\n",
    "all_distr.append(\"All\")\n",
    "for i in range(len(labels)):\n",
    "    all_distr.append(df[labels[i]].sum(axis=0))\n",
    "\n",
    "print(all_distr)"
   ]
  },
  {
   "cell_type": "code",
   "execution_count": 51,
   "metadata": {},
   "outputs": [],
   "source": [
    "index_col = [['corpus', 'care', 'harm', 'fairness', 'cheating', 'loyalty', 'betrayal', 'authority', 'subversion', 'purity', 'degradation',  'non-moral']]\n",
    "output_df = pd.DataFrame(columns=index_col)\n",
    "alm_distr_df = pd.DataFrame(alm_distr, index=index_col)\n",
    "output_df = pd.concat([output_df, alm_distr_df.T], ignore_index=True)\n",
    "blm_distr_df = pd.DataFrame(blm_distr, index=index_col)\n",
    "output_df = pd.concat([output_df, blm_distr_df.T], ignore_index=True)\n",
    "baltimore_distr_df = pd.DataFrame(balt_distr, index=index_col)\n",
    "output_df = pd.concat([output_df, baltimore_distr_df.T], ignore_index=True)\n",
    "davidson_distr_df = pd.DataFrame(david_distr, index=index_col)\n",
    "output_df = pd.concat([output_df, davidson_distr_df.T], ignore_index=True)\n",
    "election_distr_df = pd.DataFrame(election_distr, index=index_col)\n",
    "output_df = pd.concat([output_df, election_distr_df.T], ignore_index=True)\n",
    "sandy_distr_df = pd.DataFrame(sandy_distr, index=index_col)\n",
    "output_df = pd.concat([output_df, sandy_distr_df.T], ignore_index=True)\n",
    "\n",
    "output_df = pd.concat([output_df, ], ignore_index=True)"
   ]
  },
  {
   "cell_type": "code",
   "execution_count": null,
   "metadata": {},
   "outputs": [],
   "source": []
  }
 ],
 "metadata": {
  "kernelspec": {
   "display_name": "moral-contrastive-learning-3.9",
   "language": "python",
   "name": "moral-contrastive-learning-3.9"
  },
  "language_info": {
   "codemirror_mode": {
    "name": "ipython",
    "version": 3
   },
   "file_extension": ".py",
   "mimetype": "text/x-python",
   "name": "python",
   "nbconvert_exporter": "python",
   "pygments_lexer": "ipython3",
   "version": "3.9.15"
  }
 },
 "nbformat": 4,
 "nbformat_minor": 1
}
